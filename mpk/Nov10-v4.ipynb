{
 "cells": [
  {
   "cell_type": "markdown",
   "metadata": {},
   "source": [
    "### November 10 Objective\n",
    "\n",
    " <b><u>COMPLETE</u></b> Priority 1: Clean-up code into the python code.\n",
    "\n",
    " <b><u>Partially COMPLETE</u></b> Priority 2: Develop a segmentdef schema and process.\n",
    " * Schema <b> done! </b>\n",
    " * Build process <b> done! </b>\n",
    " * Something for the terminal stop, which doesn't have a \"c\"\n",
    " * Check process, and then build\n",
    "\n",
    "Priority 3: Digest the Network into all the lines. Display them on MAMP page.\n",
    "\n",
    "next steps:\n",
    "* Display and visualization\n",
    "* How can we use D3?"
   ]
  },
  {
   "cell_type": "code",
   "execution_count": 6,
   "metadata": {},
   "outputs": [],
   "source": [
    "#imports\n",
    "import dbactions as dba\n",
    "import interpretnetwork as intnet\n",
    "import osmtonetwork as om\n",
    "import mapping\n",
    "import tramnet\n",
    "\n",
    "\n",
    "\n",
    "#build the network\n",
    "\n",
    "osmfile = \"/Users/Filip/Dropbox/code/python/MPK/data/export.osm\"\n",
    "\n"
   ]
  },
  {
   "cell_type": "code",
   "execution_count": 7,
   "metadata": {},
   "outputs": [
    {
     "name": "stdout",
     "output_type": "stream",
     "text": [
      "7522\n"
     ]
    }
   ],
   "source": [
    "# G = om.buildOSMnx(osmfile)\n",
    "# om.cachenetwork(G,\"nov10\")\n",
    "G = om.getcached(\"nov10\")\n",
    "print len(G.nodes())\n",
    "\n",
    "#set-up general\n",
    "db = dba.db\n",
    "namednodes = intnet.get_namednodes(G)\n",
    "\n",
    "#set-up specific\n",
    "relation_13 = dba.get_relations(13)[0]\n",
    "relation_18 = dba.get_relations(18)[0]\n",
    "relation_1 = dba.get_relations(1)[0]\n",
    "relation_50 = dba.get_relations(50)[0]"
   ]
  },
  {
   "cell_type": "code",
   "execution_count": 9,
   "metadata": {},
   "outputs": [],
   "source": [
    "# whole_path\n",
    "# dba.get_relations(1)[0]\n",
    "\n",
    "#the magic\n",
    "whole_path, whole_path_len, node_list = tramnet.get_wholepath(G, namednodes, dba.get_relations(1)[0])\n",
    "mapping.draw_linestring(G, whole_path)"
   ]
  },
  {
   "cell_type": "code",
   "execution_count": 12,
   "metadata": {},
   "outputs": [
    {
     "data": {
      "text/plain": [
       "{'name': u'Salwator', 'osmid': 4557118642, 'x': 19.9174019, 'y': 50.0526245}"
      ]
     },
     "execution_count": 12,
     "metadata": {},
     "output_type": "execute_result"
    }
   ],
   "source": [
    "tramnet.get_startnode(G, namednodes, dba.get_relations(1)[1])"
   ]
  },
  {
   "cell_type": "code",
   "execution_count": 5,
   "metadata": {},
   "outputs": [
    {
     "name": "stdout",
     "output_type": "stream",
     "text": [
      "5a062accbdea6f1ec408e027\n",
      "5a062accbdea6f1ec408e028\n",
      "5a062accbdea6f1ec408e029\n",
      "5a062accbdea6f1ec408e02a\n"
     ]
    }
   ],
   "source": [
    "%run -i 'config.py'"
   ]
  },
  {
   "cell_type": "code",
   "execution_count": 6,
   "metadata": {},
   "outputs": [
    {
     "ename": "NameError",
     "evalue": "name 'path' is not defined",
     "output_type": "error",
     "traceback": [
      "\u001b[0;31m---------------------------------------------------------------------------\u001b[0m",
      "\u001b[0;31mNameError\u001b[0m                                 Traceback (most recent call last)",
      "\u001b[0;32m<ipython-input-6-ff8f52b0fbb8>\u001b[0m in \u001b[0;36m<module>\u001b[0;34m()\u001b[0m\n\u001b[0;32m----> 1\u001b[0;31m \u001b[0mmapping\u001b[0m\u001b[0;34m.\u001b[0m\u001b[0mbuild_LineString\u001b[0m\u001b[0;34m(\u001b[0m\u001b[0mG\u001b[0m\u001b[0;34m,\u001b[0m \u001b[0mpath\u001b[0m\u001b[0;34m)\u001b[0m\u001b[0;34m\u001b[0m\u001b[0m\n\u001b[0m",
      "\u001b[0;31mNameError\u001b[0m: name 'path' is not defined"
     ]
    }
   ],
   "source": [
    "mapping.build_LineString(G, path)"
   ]
  },
  {
   "cell_type": "code",
   "execution_count": null,
   "metadata": {},
   "outputs": [],
   "source": [
    "intnet.get_stop_nodes(\"Os. Kolorowe\",namednodes)\n",
    "\n",
    "dba.get_relations(22)[0][25:30]"
   ]
  },
  {
   "cell_type": "code",
   "execution_count": null,
   "metadata": {},
   "outputs": [],
   "source": [
    "this_G = G\n",
    "nx_stop1_listofnodes = intnet.get_stop_nodes(dba.get_relations(22)[0][27],namednodes)\n",
    "nx_stop2_listofnodes = intnet.get_stop_nodes(dba.get_relations(22)[0][29],namednodes)\n",
    "\n",
    "stopA_node, stopB_node, shortest_path_length, shortest_path = intnet.get_twostops_shortestpath(this_G, nx_stop1_listofnodes , nx_stop2_listofnodes )"
   ]
  },
  {
   "cell_type": "code",
   "execution_count": 21,
   "metadata": {},
   "outputs": [
    {
     "data": {
      "text/plain": [
       "[]"
      ]
     },
     "execution_count": 21,
     "metadata": {},
     "output_type": "execute_result"
    }
   ],
   "source": [
    "intnet.path_get_intermediate_namednodes(namednodes, shortest_path, dba.get_relations(22)[0][27], dba.get_relations(22)[0][29])"
   ]
  },
  {
   "cell_type": "code",
   "execution_count": null,
   "metadata": {
    "collapsed": true
   },
   "outputs": [],
   "source": []
  },
  {
   "cell_type": "code",
   "execution_count": null,
   "metadata": {},
   "outputs": [],
   "source": [
    "import osmnx\n",
    "dir(osmnx)"
   ]
  },
  {
   "cell_type": "code",
   "execution_count": null,
   "metadata": {},
   "outputs": [],
   "source": [
    "intnet.get_stop_nodes(\"Os.Kolorowe\", namednodes)"
   ]
  },
  {
   "cell_type": "code",
   "execution_count": null,
   "metadata": {
    "collapsed": true
   },
   "outputs": [],
   "source": []
  },
  {
   "cell_type": "code",
   "execution_count": null,
   "metadata": {
    "collapsed": true
   },
   "outputs": [],
   "source": []
  },
  {
   "cell_type": "code",
   "execution_count": null,
   "metadata": {
    "scrolled": true
   },
   "outputs": [],
   "source": [
    "for item in db.mpkrelations.find():\n",
    "    print item[\"line_number\"]"
   ]
  },
  {
   "cell_type": "code",
   "execution_count": null,
   "metadata": {
    "scrolled": true
   },
   "outputs": [],
   "source": [
    "listopaths = []\n",
    "\n",
    "for item in db.mpkrelations.find():\n",
    "    print item[\"line_number\"]\n",
    "    try:\n",
    "        whole_path, whole_path_len, node_list = tramnet.get_wholepath(G, namednodes, item['stop_list'])\n",
    "        listopaths.append(whole_path)\n",
    "    except:\n",
    "        False"
   ]
  },
  {
   "cell_type": "code",
   "execution_count": null,
   "metadata": {
    "scrolled": true
   },
   "outputs": [],
   "source": [
    "mapping.pathlist(G, pathlist)"
   ]
  },
  {
   "cell_type": "markdown",
   "metadata": {
    "collapsed": true
   },
   "source": [
    "#### Segment definition schema:"
   ]
  },
  {
   "cell_type": "raw",
   "metadata": {},
   "source": [
    "{\n",
    "    \"id\" : 142938423423,\n",
    "    \"stop_a\": a ,\n",
    "    \"stop_b\" : b,\n",
    "    \"stop_c\" : c, #can be empty\n",
    "    \"node_a\" : na,\n",
    "    \"node_b\" : nb,\n",
    "    \"path\" : [nd1, nd2, nd3, nd4, ...],\n",
    "    \"geojson\" :\n",
    "        {\n",
    "            ???\n",
    "        }\n",
    "    \"length\" : lenth,\n",
    "    \"build_date\" : NOW\n",
    "}"
   ]
  },
  {
   "cell_type": "code",
   "execution_count": null,
   "metadata": {
    "collapsed": true,
    "scrolled": true
   },
   "outputs": [],
   "source": [
    "mapping.path_to_geojson(G, whole_path)"
   ]
  },
  {
   "cell_type": "code",
   "execution_count": null,
   "metadata": {
    "collapsed": true
   },
   "outputs": [],
   "source": [
    "data = mapping.path_to_geojson(G, whole_path)"
   ]
  },
  {
   "cell_type": "code",
   "execution_count": null,
   "metadata": {
    "collapsed": true
   },
   "outputs": [],
   "source": [
    "import geojson\n",
    "\n",
    "def pathlist(G, pathlist):\n",
    "    feats = []\n",
    "    for path in pathlist:\n",
    "        my_feature = geojson.Feature(coords2linestring( G, path ))\n",
    "        print my_feature\n",
    "# \t\tfeats.extend(my_feature)\n",
    "# \tfeature_collection = geojson.FeatureCollection(feats)\n",
    "# \tdump = geojson.dumps(feature_collection, sort_keys=True)\n",
    "# \treturn dump"
   ]
  },
  {
   "cell_type": "code",
   "execution_count": null,
   "metadata": {},
   "outputs": [],
   "source": [
    "len(listopaths)"
   ]
  },
  {
   "cell_type": "code",
   "execution_count": null,
   "metadata": {},
   "outputs": [],
   "source": [
    "pathlist(G, listopaths)"
   ]
  },
  {
   "cell_type": "code",
   "execution_count": null,
   "metadata": {
    "collapsed": true
   },
   "outputs": [],
   "source": []
  },
  {
   "cell_type": "code",
   "execution_count": null,
   "metadata": {},
   "outputs": [],
   "source": [
    "nodes2coords( G, whole_path )"
   ]
  },
  {
   "cell_type": "code",
   "execution_count": null,
   "metadata": {
    "collapsed": true
   },
   "outputs": [],
   "source": []
  },
  {
   "cell_type": "code",
   "execution_count": null,
   "metadata": {
    "collapsed": true
   },
   "outputs": [],
   "source": [
    "data = build_MultiLineString(G, listopaths)\n",
    "dump = geojson.dumps(data, sort_keys=True)"
   ]
  },
  {
   "cell_type": "code",
   "execution_count": null,
   "metadata": {
    "collapsed": true
   },
   "outputs": [],
   "source": [
    "file = open(\"multiline.geojson\",\"w\") \n",
    " \n",
    "file.write(dump)\n",
    " \n",
    "file.close() "
   ]
  },
  {
   "cell_type": "code",
   "execution_count": null,
   "metadata": {
    "collapsed": true
   },
   "outputs": [],
   "source": [
    "retobj = db.mpksegmentdefinitions.insert_one({'data':\"false\"})"
   ]
  },
  {
   "cell_type": "code",
   "execution_count": null,
   "metadata": {},
   "outputs": [],
   "source": [
    "retobj.inserted_id"
   ]
  },
  {
   "cell_type": "code",
   "execution_count": null,
   "metadata": {},
   "outputs": [],
   "source": [
    "db.mpksegmentdefinitions.find( {\"ObjectId\":retobj.inserted_id })"
   ]
  },
  {
   "cell_type": "code",
   "execution_count": null,
   "metadata": {
    "collapsed": true
   },
   "outputs": [],
   "source": []
  }
 ],
 "metadata": {
  "kernelspec": {
   "display_name": "Python [conda env:geoenv]",
   "language": "python",
   "name": "conda-env-geoenv-py"
  },
  "language_info": {
   "codemirror_mode": {
    "name": "ipython",
    "version": 2
   },
   "file_extension": ".py",
   "mimetype": "text/x-python",
   "name": "python",
   "nbconvert_exporter": "python",
   "pygments_lexer": "ipython2",
   "version": "2.7.14"
  }
 },
 "nbformat": 4,
 "nbformat_minor": 2
}
