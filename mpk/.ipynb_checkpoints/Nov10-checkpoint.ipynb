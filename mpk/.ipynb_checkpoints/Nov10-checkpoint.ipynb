{
 "cells": [
  {
   "cell_type": "markdown",
   "metadata": {},
   "source": [
    "### November 10 Objective\n",
    "\n",
    "Priority 1: Clean-up code into the python code.\n",
    "\n",
    "Priority 2: Develop a segmentdef schema and process.\n",
    "\n",
    "Priority 3: Digest the Network into all the lines. Display them on MAMP page.\n",
    "\n",
    "next steps:\n",
    "* Display and visualization\n",
    "* How can we use D3?"
   ]
  },
  {
   "cell_type": "markdown",
   "metadata": {},
   "source": [
    "#### Imports"
   ]
  },
  {
   "cell_type": "code",
   "execution_count": 1,
   "metadata": {},
   "outputs": [],
   "source": [
    "import dbactions as dba\n",
    "import interpretnetwork as intnet\n",
    "import osmtonetwork as om\n",
    "import mapping"
   ]
  },
  {
   "cell_type": "code",
   "execution_count": 2,
   "metadata": {},
   "outputs": [],
   "source": [
    "# dir(dba)"
   ]
  },
  {
   "cell_type": "markdown",
   "metadata": {
    "collapsed": true
   },
   "source": [
    "## Set-up Essential"
   ]
  },
  {
   "cell_type": "markdown",
   "metadata": {},
   "source": [
    "### Build Our Network."
   ]
  },
  {
   "cell_type": "code",
   "execution_count": 3,
   "metadata": {},
   "outputs": [
    {
     "data": {
      "text/plain": [
       "7521"
      ]
     },
     "execution_count": 3,
     "metadata": {},
     "output_type": "execute_result"
    }
   ],
   "source": [
    "# xmlfile = '/Users/Filip/Dropbox/code/QGIS/Data/Tramwaje-krakow/siec.xml'\n",
    "# G2 = om.buildOSMnx(xmlfile)\n",
    "# om.cachenetwork(G2,\"nov10\")\n",
    "G = om.getcached(\"nov10\")\n",
    "len(G.nodes())"
   ]
  },
  {
   "cell_type": "code",
   "execution_count": 4,
   "metadata": {},
   "outputs": [],
   "source": [
    "db = dba.db\n",
    "namednodes = intnet.get_namednodes(G)"
   ]
  },
  {
   "cell_type": "markdown",
   "metadata": {},
   "source": [
    "## Set-up Specific"
   ]
  },
  {
   "cell_type": "code",
   "execution_count": 5,
   "metadata": {},
   "outputs": [],
   "source": [
    "relation_13 = dba.get_relations(13)[0]\n",
    "relation_18 = dba.get_relations(18)[0]\n",
    "relation_1 = dba.get_relations(1)[0]\n",
    "relation_50 = dba.get_relations(50)[0]\n"
   ]
  },
  {
   "cell_type": "markdown",
   "metadata": {},
   "source": [
    "# Examples"
   ]
  },
  {
   "cell_type": "code",
   "execution_count": 17,
   "metadata": {},
   "outputs": [],
   "source": [
    "\n",
    "\n",
    "# namednodes = intnet.get_namednodes(G)\n",
    "\n",
    "# nodeA, nodeB, path_len, path= intnet.get_shortestpath(G, intnet.get_stop_nodes(relation_13[0], namednodes)[0], intnet.get_stop_nodes(relation_13[10], namednodes)[0])\n",
    "\n",
    "# mapping.path(G, path)"
   ]
  },
  {
   "cell_type": "code",
   "execution_count": 18,
   "metadata": {},
   "outputs": [],
   "source": [
    "# stradom = intnet.get_stop_nodes(relation_13[15], namednodes)\n",
    "# len(stradom)\n",
    "\n",
    "# wawel = intnet.get_stop_nodes(relation_13[16], namednodes)\n",
    "# len(wawel)\n",
    "\n",
    "# stopA_node, stopB_node, shortest_path_length, shortest_path = intnet.get_twostops_shortestpath(G, wawel , stradom)\n",
    "# print shortest_path\n",
    "# mapping.path(G, shortest_path)"
   ]
  },
  {
   "cell_type": "code",
   "execution_count": null,
   "metadata": {},
   "outputs": [],
   "source": []
  },
  {
   "cell_type": "markdown",
   "metadata": {},
   "source": [
    "### From network, get nodes that correspond to a stop"
   ]
  },
  {
   "cell_type": "code",
   "execution_count": null,
   "metadata": {
    "collapsed": true
   },
   "outputs": [],
   "source": []
  },
  {
   "cell_type": "code",
   "execution_count": 8,
   "metadata": {
    "collapsed": true
   },
   "outputs": [],
   "source": [
    "def relationnodes(relation):\n",
    "    listoflists = []\n",
    "    for stop in relation:\n",
    "        listoflists.append( intnet.get_stop_nodes(stop, namednodes) )\n",
    "    return listoflists"
   ]
  },
  {
   "cell_type": "code",
   "execution_count": null,
   "metadata": {
    "collapsed": true
   },
   "outputs": [],
   "source": []
  },
  {
   "cell_type": "markdown",
   "metadata": {},
   "source": [
    "### From Network, get named nodes, first named node, first named node without the current one. Confusing"
   ]
  },
  {
   "cell_type": "code",
   "execution_count": 13,
   "metadata": {},
   "outputs": [],
   "source": [
    "# len(shortest_path)\n",
    "# intnet.path_remove_namednode(namednodes, shortest_path, \"Wawel\")\n",
    "# len(shortest_path)"
   ]
  },
  {
   "cell_type": "code",
   "execution_count": 14,
   "metadata": {},
   "outputs": [],
   "source": [
    "# intnet.get_stop_nodes(relation_1[12], namednodes)"
   ]
  },
  {
   "cell_type": "code",
   "execution_count": 15,
   "metadata": {},
   "outputs": [],
   "source": [
    "# cmentarz_podgorski = intnet.get_stop_nodes(relation_13[10], namednodes)\n",
    "# len(cmentarz_podgorski)\n",
    "\n",
    "# wawel = intnet.get_stop_nodes(relation_13[16], namednodes)\n",
    "# len(wawel)\n",
    "\n",
    "# stopA_node, stopB_node, shortest_path_length, shortest_path = intnet.get_twostops_shortestpath(G, wawel , cmentarz_podgorski)\n",
    "# print shortest_path\n"
   ]
  },
  {
   "cell_type": "code",
   "execution_count": 16,
   "metadata": {},
   "outputs": [],
   "source": [
    "# intnet.path_get_intermediate_namednodes(namednodes, shortest_path, u'Cmentarz Podg\\xf3rski', u'Wawel')"
   ]
  },
  {
   "cell_type": "markdown",
   "metadata": {},
   "source": [
    "# Get Start Node - s0"
   ]
  },
  {
   "cell_type": "code",
   "execution_count": 23,
   "metadata": {
    "collapsed": true
   },
   "outputs": [],
   "source": [
    "\"\"\"\n",
    "get start node\n",
    "\n",
    "input: relation\n",
    "\n",
    "output\n",
    "start node - nx\n",
    "\n",
    "\n",
    "\"\"\"\n",
    "\n",
    "\n",
    "def tramnet_get_start_node(relation):\n",
    "\n",
    "    s0 = relation[0] #  \"Krowodrza Górka\"\n",
    "    s1 = relation[1] # \"Bratysławska\"\n",
    "\n",
    "\n",
    "#    ASSUMES GEOLOCATED STOPS\n",
    "\n",
    "    s0nodes = intnet.get_stop_nodes(s0, namednodes)\n",
    "    s1nodes = intnet.get_stop_nodes(s1, namednodes)\n",
    "\n",
    "    #find shortest path\n",
    "    a_node, b_node, path_len, path = intnet.get_twostops_shortestpath(G, s0nodes , s1nodes )\n",
    "\n",
    "\n",
    "    #save the start node\n",
    "    start_node = a_node\n",
    "\n",
    "    return start_node"
   ]
  },
  {
   "cell_type": "code",
   "execution_count": 24,
   "metadata": {},
   "outputs": [
    {
     "data": {
      "text/plain": [
       "{'name': u'Nowy Bie\\u017can\\xf3w',\n",
       " 'osmid': 287586332,\n",
       " 'x': 20.0232538,\n",
       " 'y': 50.0157031}"
      ]
     },
     "execution_count": 24,
     "metadata": {},
     "output_type": "execute_result"
    }
   ],
   "source": [
    "tramnet_get_start_node(relation_13)"
   ]
  },
  {
   "cell_type": "markdown",
   "metadata": {},
   "source": [
    "# Step 2: Get next node"
   ]
  },
  {
   "cell_type": "code",
   "execution_count": 56,
   "metadata": {},
   "outputs": [],
   "source": [
    "\"\"\"\n",
    "get next node and path\n",
    "\n",
    "input:\n",
    "start_node\n",
    "relation\n",
    "current_stop_number\n",
    "\n",
    "output\n",
    "next node - nx\n",
    "path - list of node id's\n",
    "\n",
    "requires:\n",
    "namednodes\n",
    "\n",
    "\"\"\"\n",
    "\n",
    "\n",
    "def tramnet_get_next_node_and_path(start_node, relation, current_stop):\n",
    "    \n",
    "    i = current_stop\n",
    "    StopAName = relation[i]\n",
    "    StopBName = \"\"\n",
    "    \n",
    "    #define stop 0\n",
    "    s0nodes = []\n",
    "    s0nodes.append(start_node)\n",
    "    \n",
    "    #define stop 2\n",
    "    s2nodes = []\n",
    "    \n",
    "    print StopBName\n",
    "    \n",
    "    if intnet.get_stop_nodes(relation[i+2], namednodes) == []:\n",
    "        if intnet.get_stop_nodes(relation[i+3], namednodes) == []:\n",
    "            if intnet.get_stop_nodes(relation[i+4], namednodes) == []:\n",
    "                return \"THIS SHIT CAN't COMPuTE\"\n",
    "            else:\n",
    "                StopBName = relation[i+4]\n",
    "        else:\n",
    "            StopBName = relation[i+3]\n",
    "    else:\n",
    "        StopBName = relation[i+2]\n",
    "        \n",
    "    s2nodes = intnet.get_stop_nodes(StopBName, namednodes)\n",
    "    print s2nodes\n",
    "    \n",
    "    # get the shortest path.\n",
    "    a_node, c_node, path_len, path = intnet.get_twostops_shortestpath(G, s0nodes , s2nodes )\n",
    "\n",
    "    \n",
    "    a = start_node\n",
    "    b_possibilities = intnet.path_get_intermediate_namednodes(namednodes, path, StopAName, StopBName)\n",
    "    print b_possibilities\n",
    "    b = b_possibilities[0] #this is kinda basic. Just get the first that works.\n",
    "    \n",
    "    a, next_node, path_len_out, path_out = intnet.get_shortestpath(G, a, b)\n",
    "        \n",
    "    return next_node, path_len_out, path_out"
   ]
  },
  {
   "cell_type": "markdown",
   "metadata": {},
   "source": [
    "# Step 3: get last node"
   ]
  },
  {
   "cell_type": "code",
   "execution_count": 68,
   "metadata": {
    "collapsed": true
   },
   "outputs": [],
   "source": [
    "\"\"\"\n",
    "\n",
    "tramnet_get_last_node\n",
    "\n",
    "input: secondtolastnode, relation\n",
    "\n",
    "output\n",
    "path\n",
    "\n",
    "\"\"\"\n",
    "\n",
    "def tramnet_get_last_node(secondtolastnode, relation):\n",
    "    # get the exact start node (in a list of 1 element, because that's how our shortest path algo works)\n",
    "    s0nodes = []\n",
    "    s0nodes.append( secondtolastnode )\n",
    "    \n",
    "    #make a list of possible n+1 (last) nodes\n",
    "    s1 = relation[len(relation)-1]\n",
    "    s1nodes = intnet.get_stop_nodes(s1, namednodes)\n",
    "\n",
    "    #find shortest path\n",
    "    a_node, last_node, path_len_out, path_out = intnet.get_twostops_shortestpath(G, s0nodes , s1nodes )\n",
    "\n",
    "    return last_node, path_len_out, path_out\n",
    "\n",
    "\n",
    "    "
   ]
  },
  {
   "cell_type": "markdown",
   "metadata": {},
   "source": [
    "# The Big shebang. Get the WHOLE path for a relation."
   ]
  },
  {
   "cell_type": "markdown",
   "metadata": {},
   "source": [
    "* Add a way to see what's happening"
   ]
  },
  {
   "cell_type": "code",
   "execution_count": 64,
   "metadata": {
    "collapsed": true
   },
   "outputs": [],
   "source": [
    "def get_whole_path_alt(relation):\n",
    "#     global relnodes\n",
    "#     relnodes = relationnodes(relation)\n",
    "    \n",
    "    whole_path_len = 0\n",
    "    whole_path = []\n",
    "    node_list = []\n",
    "\n",
    "    #start\n",
    "    start_node = tramnet_get_start_node(relation)\n",
    "    node_list.append(start_node)\n",
    "    \n",
    "    #middle\n",
    "    \n",
    "    \n",
    "    a_node = start_node #initialize\n",
    "    \n",
    "    for i in range(0, len(relation)-3):\n",
    "        \n",
    "#         print relation[i]\n",
    "\n",
    "        b_node, path_len_out, path_out = tramnet_get_next_node_and_path(a_node, relation, i)\n",
    "\n",
    "        node_list.append(b_node)\n",
    "        \n",
    "        whole_path_len = whole_path_len + path_len_out\n",
    "        \n",
    "        whole_path.extend( path_out )\n",
    "\n",
    "        #start over with the next node in the list\n",
    "        a_node = b_node\n",
    "    \n",
    "    #end\n",
    "    last_node, path_len_out, path_out = tramnet_get_last_node(a_node, relation)\n",
    "    \n",
    "    whole_path_len = whole_path_len + path_len_out\n",
    "    whole_path.extend( path_out )\n",
    "    node_list.append(last_node)\n",
    "    \n",
    "    \n",
    "    return whole_path, whole_path_len, node_list"
   ]
  },
  {
   "cell_type": "code",
   "execution_count": 65,
   "metadata": {},
   "outputs": [
    {
     "data": {
      "text/plain": [
       "21"
      ]
     },
     "execution_count": 65,
     "metadata": {},
     "output_type": "execute_result"
    }
   ],
   "source": [
    "len(relation_50)"
   ]
  },
  {
   "cell_type": "code",
   "execution_count": 73,
   "metadata": {},
   "outputs": [
    {
     "name": "stdout",
     "output_type": "stream",
     "text": [
      "{'y': 50.0818084, 'x': 19.8819253, 'osmid': 2419986540, 'name': u'Bronowice Ma\\u0142e'}\n",
      "\n",
      "[{'y': 50.0788496, 'x': 19.8978548, 'osmid': 2419959774, 'name': u'Wesele'}, {'y': 50.0792294, 'x': 19.8967465, 'osmid': 2419959874, 'name': u'Wesele'}]\n",
      "[{'y': 50.0815243, 'x': 19.8885959, 'osmid': 2427984132, 'name': u'Bronowice Wiadukt'}]\n",
      "\n",
      "[{'y': 50.0777617, 'x': 19.9006875, 'osmid': 2428077846, 'name': u'Bronowice'}, {'y': 50.0771246, 'x': 19.9018191, 'osmid': 2419959764, 'name': u'Bronowice'}, {'y': 50.0777847, 'x': 19.9007259, 'osmid': 2419959765, 'name': u'Bronowice'}, {'y': 50.0771489, 'x': 19.9013276, 'osmid': 2428098333, 'name': u'Bronowice'}]\n",
      "[{'y': 50.0792294, 'x': 19.8967465, 'osmid': 2419959874, 'name': u'Wesele'}]\n",
      "\n",
      "[{'y': 50.0758889, 'x': 19.9058459, 'osmid': 2419986542, 'name': u'G\\u0142owackiego'}, {'y': 50.0762075, 'x': 19.9050654, 'osmid': 2427938063, 'name': u'G\\u0142owackiego'}]\n",
      "[{'y': 50.0777617, 'x': 19.9006875, 'osmid': 2428077846, 'name': u'Bronowice'}]\n",
      "\n",
      "[{'y': 50.074127, 'x': 19.91077, 'osmid': 2419986543, 'name': u'Uniwersytet Pedagogiczny'}, {'y': 50.0742583, 'x': 19.9099941, 'osmid': 2419986544, 'name': u'Uniwersytet Pedagogiczny'}]\n",
      "[{'y': 50.0758889, 'x': 19.9058459, 'osmid': 2419986542, 'name': u'G\\u0142owackiego'}]\n",
      "\n",
      "[{'y': 50.0728622, 'x': 19.9160555, 'osmid': 2419986538, 'name': u'Biprostal'}, {'y': 50.0730964, 'x': 19.9150451, 'osmid': 2419986539, 'name': u'Biprostal'}]\n",
      "[{'y': 50.0742583, 'x': 19.9099941, 'osmid': 2419986544, 'name': u'Uniwersytet Pedagogiczny'}]\n",
      "\n",
      "[{'y': 50.0717719, 'x': 19.9200252, 'osmid': 2419986545, 'name': u'Urz\\u0119dnicza'}, {'y': 50.0719637, 'x': 19.9192502, 'osmid': 2419986546, 'name': u'Urz\\u0119dnicza'}]\n",
      "[{'y': 50.0730964, 'x': 19.9150451, 'osmid': 2419986539, 'name': u'Biprostal'}]\n",
      "\n",
      "[{'y': 50.0688451, 'x': 19.9268115, 'osmid': 2419959766, 'name': u'Plac Inwalid\\xf3w'}, {'y': 50.0695929, 'x': 19.9258957, 'osmid': 2419959767, 'name': u'Plac Inwalid\\xf3w'}]\n",
      "[{'y': 50.0719637, 'x': 19.9192502, 'osmid': 2419986546, 'name': u'Urz\\u0119dnicza'}]\n",
      "\n",
      "[{'y': 50.0666264, 'x': 19.9293711, 'osmid': 2419959763, 'name': u'Batorego'}, {'y': 50.0670281, 'x': 19.9288508, 'osmid': 2427903882, 'name': u'Batorego'}]\n",
      "[{'y': 50.0695929, 'x': 19.9258957, 'osmid': 2419959767, 'name': u'Plac Inwalid\\xf3w'}]\n",
      "\n",
      "[{'y': 50.0637373, 'x': 19.9326155, 'osmid': 2419959769, 'name': u'Teatr Bagatela'}, {'y': 50.063058, 'x': 19.9325961, 'osmid': 2419894822, 'name': u'Teatr Bagatela'}, {'y': 50.0638069, 'x': 19.9333775, 'osmid': 470643346, 'name': u'Teatr Bagatela'}]\n",
      "[{'y': 50.0670281, 'x': 19.9288508, 'osmid': 2427903882, 'name': u'Batorego'}]\n",
      "\n",
      "[{'y': 50.0591774, 'x': 19.9330989, 'osmid': 2419367401, 'name': u'Filharmonia'}, {'y': 50.0586597, 'x': 19.9329612, 'osmid': 2419768560, 'name': u'Filharmonia'}, {'y': 50.0590323, 'x': 19.9338703, 'osmid': 2419768561, 'name': u'Filharmonia'}]\n",
      "[{'y': 50.0637373, 'x': 19.9326155, 'osmid': 2419959769, 'name': u'Teatr Bagatela'}]\n",
      "\n",
      "[{'y': 50.0591156, 'x': 19.9376313, 'osmid': 2419768564, 'name': u'Plac Wszystkich \\u015awi\\u0119tych'}, {'y': 50.0591291, 'x': 19.938241, 'osmid': 2419768565, 'name': u'Plac Wszystkich \\u015awi\\u0119tych'}]\n",
      "[{'y': 50.0591774, 'x': 19.9330989, 'osmid': 2419367401, 'name': u'Filharmonia'}]\n",
      "\n",
      "[{'y': 50.0592284, 'x': 19.9425326, 'osmid': 2424015724, 'name': u'Poczta G\\u0142\\xf3wna'}, {'y': 50.0598135, 'x': 19.942423, 'osmid': 2420216112, 'name': u'Poczta G\\u0142\\xf3wna'}, {'y': 50.0593419, 'x': 19.9418181, 'osmid': 2419768566, 'name': u'Poczta G\\u0142\\xf3wna'}]\n",
      "[{'y': 50.0591156, 'x': 19.9376313, 'osmid': 2419768564, 'name': u'Plac Wszystkich \\u015awi\\u0119tych'}]\n",
      "\n",
      "[{'y': 50.0572586, 'x': 19.9460278, 'osmid': 2423003234, 'name': u'Starowi\\u015blna'}, {'y': 50.0573091, 'x': 19.9445456, 'osmid': 2423003235, 'name': u'Starowi\\u015blna'}, {'y': 50.0569467, 'x': 19.9449718, 'osmid': 2419039772, 'name': u'Starowi\\u015blna'}, {'y': 50.0573087, 'x': 19.946129, 'osmid': 2420263459, 'name': u'Starowi\\u015blna'}]\n",
      "[{'y': 50.0593419, 'x': 19.9418181, 'osmid': 2419768566, 'name': u'Poczta G\\u0142\\xf3wna'}]\n",
      "\n",
      "[{'y': 50.0532057, 'x': 19.9488976, 'osmid': 2419106061, 'name': u'Miodowa'}, {'y': 50.053934, 'x': 19.9480787, 'osmid': 2419106062, 'name': u'Miodowa'}]\n",
      "[{'y': 50.0569467, 'x': 19.9449718, 'osmid': 2419039772, 'name': u'Starowi\\u015blna'}]\n",
      "\n",
      "[{'y': 50.0466921, 'x': 19.9550065, 'osmid': 2419064240, 'name': u'Plac Bohater\\xf3w Getta'}, {'y': 50.0466922, 'x': 19.9550582, 'osmid': 2419064241, 'name': u'Plac Bohater\\xf3w Getta'}]\n",
      "[{'y': 50.053934, 'x': 19.9480787, 'osmid': 2419106062, 'name': u'Miodowa'}, {'y': 50.0511328, 'x': 19.951063, 'osmid': 2419106073, 'name': u'\\u015aw. Wawrzy\\u0144ca'}]\n",
      "\n",
      "[{'y': 50.0466921, 'x': 19.9550065, 'osmid': 2419064240, 'name': u'Plac Bohater\\xf3w Getta'}, {'y': 50.0466922, 'x': 19.9550582, 'osmid': 2419064241, 'name': u'Plac Bohater\\xf3w Getta'}]\n",
      "[{'y': 50.0511328, 'x': 19.951063, 'osmid': 2419106073, 'name': u'\\u015aw. Wawrzy\\u0144ca'}]\n",
      "\n",
      "[{'y': 50.0418356, 'x': 19.9614158, 'osmid': 288916414, 'name': u'Powsta\\u0144c\\xf3w Wielkopolskich'}, {'y': 50.0424354, 'x': 19.9607129, 'osmid': 2419775591, 'name': u'Powsta\\u0144c\\xf3w Wielkopolskich'}]\n",
      "[{'y': 50.0511328, 'x': 19.951063, 'osmid': 2419106073, 'name': u'\\u015aw. Wawrzy\\u0144ca'}, {'y': 50.0466921, 'x': 19.9550065, 'osmid': 2419064240, 'name': u'Plac Bohater\\xf3w Getta'}]\n",
      "\n",
      "[{'y': 50.0386872, 'x': 19.9649053, 'osmid': 622594630, 'name': u'Cmentarz Podg\\xf3rski'}, {'y': 50.0390832, 'x': 19.9644381, 'osmid': 1890503349, 'name': u'Cmentarz Podg\\xf3rski'}]\n",
      "[{'y': 50.0424354, 'x': 19.9607129, 'osmid': 2419775591, 'name': u'Powsta\\u0144c\\xf3w Wielkopolskich'}, {'y': 50.0511328, 'x': 19.951063, 'osmid': 2419106073, 'name': u'\\u015aw. Wawrzy\\u0144ca'}]\n",
      "\n",
      "[{'y': 50.0334709, 'x': 19.9702393, 'osmid': 1890503312, 'name': u'Dworcowa'}, {'y': 50.0326846, 'x': 19.9710558, 'osmid': 3204607912, 'name': u'Dworcowa'}]\n",
      "[{'y': 50.0390832, 'x': 19.9644381, 'osmid': 1890503349, 'name': u'Cmentarz Podg\\xf3rski'}]\n",
      "\n",
      "[{'y': 50.0266706, 'x': 19.9771807, 'osmid': 622594619, 'name': u'Kabel'}, {'y': 50.0272989, 'x': 19.9764746, 'osmid': 1890503305, 'name': u'Kabel'}]\n",
      "[{'y': 50.0334709, 'x': 19.9702393, 'osmid': 1890503312, 'name': u'Dworcowa'}]\n",
      "\n",
      "[{'y': 50.0236224, 'x': 19.9794443, 'osmid': 2421888488, 'name': u'Bie\\u017canowska'}, {'y': 50.023099, 'x': 19.9817019, 'osmid': 622594618, 'name': u'Bie\\u017canowska'}, {'y': 50.02306, 'x': 19.9816801, 'osmid': 1890503289, 'name': u'Bie\\u017canowska'}, {'y': 50.0236404, 'x': 19.9793901, 'osmid': 2134334911, 'name': u'Bie\\u017canowska'}]\n",
      "[{'y': 50.0272989, 'x': 19.9764746, 'osmid': 1890503305, 'name': u'Kabel'}]\n",
      "\n",
      "[{'y': 50.0184067, 'x': 19.977519, 'osmid': 2134334912, 'name': u'Dauna'}, {'y': 50.0184095, 'x': 19.977579, 'osmid': 2134334913, 'name': u'Dauna'}]\n",
      "[{'y': 50.0236404, 'x': 19.9793901, 'osmid': 2134334911, 'name': u'Bie\\u017canowska'}]\n",
      "\n",
      "[{'y': 50.0154486, 'x': 19.9715955, 'osmid': 2134334914, 'name': u'Piaski Nowe'}, {'y': 50.015483, 'x': 19.9715857, 'osmid': 2134334915, 'name': u'Piaski Nowe'}]\n",
      "[{'y': 50.0184067, 'x': 19.977519, 'osmid': 2134334912, 'name': u'Dauna'}]\n",
      "\n",
      "[{'y': 50.0134761, 'x': 19.9646822, 'osmid': 624406882, 'name': u'Nowos\\u0105decka'}, {'y': 50.0134487, 'x': 19.9646954, 'osmid': 2424534762, 'name': u'Nowos\\u0105decka'}]\n",
      "[{'y': 50.015483, 'x': 19.9715857, 'osmid': 2134334915, 'name': u'Piaski Nowe'}]\n",
      "\n",
      "[{'y': 50.0123437, 'x': 19.9568375, 'osmid': 289685344, 'name': u'Witosa'}, {'y': 50.0124344, 'x': 19.9557877, 'osmid': 2424655425, 'name': u'Witosa'}]\n",
      "[{'y': 50.0134761, 'x': 19.9646822, 'osmid': 624406882, 'name': u'Nowos\\u0105decka'}]\n"
     ]
    }
   ],
   "source": [
    "whole_path, whole_path_len, node_list = get_whole_path_alt(dba.get_relations(24)[1])\n"
   ]
  },
  {
   "cell_type": "code",
   "execution_count": 74,
   "metadata": {},
   "outputs": [],
   "source": [
    "mapping.path(G, whole_path)"
   ]
  },
  {
   "cell_type": "code",
   "execution_count": 72,
   "metadata": {},
   "outputs": [
    {
     "name": "stdout",
     "output_type": "stream",
     "text": [
      "[u'Kurdwan\\xf3w', u'Witosa', u'Nowos\\u0105decka', u'Piaski Nowe', u'Dauna', u'Bie\\u017canowska', u'Kabel', u'Dworcowa', u'Cmentarz Podg\\xf3rski', u'Powsta\\u0144c\\xf3w Wielkopolskich', u'Plac Bohater\\xf3w Getta', u'\\u015aw.Wawrzy\\u0144ca', u'Miodowa', u'Starowi\\u015blna', u'Poczta G\\u0142\\xf3wna', u'Plac Wszystkich \\u015awi\\u0119tych', u'Filharmonia', u'Teatr Bagatela', u'Batorego', u'Plac Inwalid\\xf3w', u'Urz\\u0119dnicza', u'Biprostal', u'Uniwersytet Pedagogiczny', u'G\\u0142owackiego', u'Bronowice', u'Wesele', u'Bronowice Wiadukt', u'Bronowice Ma\\u0142e']\n"
     ]
    }
   ],
   "source": [
    "print dba.get_relations(24)[0]"
   ]
  },
  {
   "cell_type": "code",
   "execution_count": null,
   "metadata": {},
   "outputs": [],
   "source": [
    "path = [2419720287, 2419720306, 2419720304, 4987882579, 3754628344, 2419720295, 3754628342, 2419720291, 2419720290, 3754628341, 2419720293, 4557118642]\n",
    "remove_this = \"\"\n",
    "\n",
    "get_named_nodes_in_path(namednodes, path, remove_this)"
   ]
  },
  {
   "cell_type": "code",
   "execution_count": null,
   "metadata": {},
   "outputs": [],
   "source": [
    "print relation_1[28]"
   ]
  },
  {
   "cell_type": "code",
   "execution_count": null,
   "metadata": {},
   "outputs": [],
   "source": [
    "tramnet_get_next_node_and_path({'name': u'Komorowskiego', 'osmid': 2419720287, 'x': 19.9218144, 'y': 50.0534121}, relation_1, 27)"
   ]
  },
  {
   "cell_type": "code",
   "execution_count": null,
   "metadata": {
    "collapsed": true
   },
   "outputs": [],
   "source": [
    "mapping.path(whole_path)"
   ]
  },
  {
   "cell_type": "code",
   "execution_count": null,
   "metadata": {},
   "outputs": [],
   "source": [
    "for item in db.mpkrelations.find():\n",
    "    print item[\"line_number\"]"
   ]
  },
  {
   "cell_type": "code",
   "execution_count": null,
   "metadata": {
    "collapsed": true
   },
   "outputs": [],
   "source": [
    "def map_a_list(pathlist):\n",
    "    \n",
    "    \n",
    "    submission = \"\"\n",
    "    \n",
    "    beginning = \"\"\"\n",
    "    {\n",
    "      \"type\": \"FeatureCollection\",\n",
    "      \"features\": [\n",
    "\n",
    "    \"\"\"\n",
    "\n",
    "    prefix = \"\"\"\n",
    "        {\n",
    "          \"type\": \"Feature\",\n",
    "          \"properties\": {},\n",
    "          \"geometry\": \n",
    "    \"\"\" \n",
    "\n",
    "    suffix = \"\"\"},\"\"\" \n",
    "\n",
    "    end = \"\"\"\n",
    "      ]\n",
    "    }\n",
    "\n",
    "    \"\"\"\n",
    "        \n",
    "    submission = submission + beginning\n",
    "    \n",
    "    for path in pathlist:\n",
    "        coords = []\n",
    "            \n",
    "        for nd in path: #this is the visualization part\n",
    "            x = G.node[nd]['x']\n",
    "            y = G.node[nd]['y']\n",
    "            coords.append( (x,y) )\n",
    "        \n",
    "        submission = submission + prefix\n",
    "        submission = submission + json.dumps({'type': 'LineString', 'coordinates': coords } )\n",
    "        submission = submission + suffix\n",
    "        \n",
    "\n",
    "    submission = submission + end\n",
    "    \n",
    "    print submission\n",
    "    geojsonio.display(submission)\n"
   ]
  },
  {
   "cell_type": "code",
   "execution_count": null,
   "metadata": {},
   "outputs": [],
   "source": []
  },
  {
   "cell_type": "code",
   "execution_count": null,
   "metadata": {
    "collapsed": true
   },
   "outputs": [],
   "source": []
  },
  {
   "cell_type": "code",
   "execution_count": null,
   "metadata": {
    "collapsed": true
   },
   "outputs": [],
   "source": [
    "mapping.path(whole_path)"
   ]
  },
  {
   "cell_type": "code",
   "execution_count": null,
   "metadata": {},
   "outputs": [],
   "source": [
    "coords = []\n",
    "type ( json.dumps({'type': 'LineString', 'coordinates': coords} ) )"
   ]
  },
  {
   "cell_type": "code",
   "execution_count": null,
   "metadata": {},
   "outputs": [],
   "source": [
    "pathlist= []\n",
    "\n",
    "for item in db.mpkrelations.find():\n",
    "    print item[\"line_number\"]\n",
    "    try:\n",
    "        whole_path, whole_path_len, node_list = get_whole_path_alt(item['stop_list'])\n",
    "        pathlist.append(whole_path)\n",
    "    except:\n",
    "        False"
   ]
  },
  {
   "cell_type": "code",
   "execution_count": null,
   "metadata": {
    "scrolled": true
   },
   "outputs": [],
   "source": [
    "map_a_list(pathlist)"
   ]
  },
  {
   "cell_type": "code",
   "execution_count": null,
   "metadata": {
    "collapsed": true
   },
   "outputs": [],
   "source": []
  },
  {
   "cell_type": "code",
   "execution_count": null,
   "metadata": {
    "collapsed": true
   },
   "outputs": [],
   "source": []
  }
 ],
 "metadata": {
  "kernelspec": {
   "display_name": "Python [conda env:geoenv]",
   "language": "python",
   "name": "conda-env-geoenv-py"
  },
  "language_info": {
   "codemirror_mode": {
    "name": "ipython",
    "version": 2
   },
   "file_extension": ".py",
   "mimetype": "text/x-python",
   "name": "python",
   "nbconvert_exporter": "python",
   "pygments_lexer": "ipython2",
   "version": "2.7.14"
  }
 },
 "nbformat": 4,
 "nbformat_minor": 2
}
